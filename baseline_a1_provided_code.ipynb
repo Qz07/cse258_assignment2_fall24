{
 "cells": [
  {
   "cell_type": "code",
   "execution_count": 1,
   "id": "0c25cb68-2355-4eb5-b754-bc5d81692f14",
   "metadata": {},
   "outputs": [],
   "source": [
    "import pandas as pd \n",
    "import numpy"
   ]
  },
  {
   "cell_type": "code",
   "execution_count": 2,
   "id": "9ca40f13-a375-4347-b1ff-9a97d90112f5",
   "metadata": {
    "scrolled": true
   },
   "outputs": [
    {
     "name": "stderr",
     "output_type": "stream",
     "text": [
      "/home/ubuntu/.conda/envs/cse158a2/lib/python3.8/site-packages/pandas/core/dtypes/cast.py:1196: RuntimeWarning: invalid value encountered in cast\n",
      "  return values.astype(dtype, copy=copy)\n"
     ]
    }
   ],
   "source": [
    "data = pd.read_json('image_review_all.json', lines=True)"
   ]
  },
  {
   "cell_type": "code",
   "execution_count": 5,
   "id": "f4d4b9bd-be2c-41a1-a853-78c88884feaa",
   "metadata": {},
   "outputs": [],
   "source": [
    "data['user_id'] = data['user_id'].astype(str)"
   ]
  },
  {
   "cell_type": "code",
   "execution_count": 6,
   "id": "9b5642ea-aa96-4070-adeb-0b8c1f7ea8c9",
   "metadata": {},
   "outputs": [],
   "source": [
    "dataTrain = data[:int(len(data)*.9)]\n",
    "dataTest = data[int(len(data)*.9):]"
   ]
  },
  {
   "cell_type": "code",
   "execution_count": 7,
   "id": "499bccc0-5ff3-47aa-83c8-853921484d68",
   "metadata": {
    "scrolled": true
   },
   "outputs": [
    {
     "data": {
      "text/html": [
       "<div>\n",
       "<style scoped>\n",
       "    .dataframe tbody tr th:only-of-type {\n",
       "        vertical-align: middle;\n",
       "    }\n",
       "\n",
       "    .dataframe tbody tr th {\n",
       "        vertical-align: top;\n",
       "    }\n",
       "\n",
       "    .dataframe thead th {\n",
       "        text-align: right;\n",
       "    }\n",
       "</style>\n",
       "<table border=\"1\" class=\"dataframe\">\n",
       "  <thead>\n",
       "    <tr style=\"text-align: right;\">\n",
       "      <th></th>\n",
       "      <th>business_id</th>\n",
       "      <th>user_id</th>\n",
       "      <th>rating</th>\n",
       "      <th>review_text</th>\n",
       "      <th>pics</th>\n",
       "    </tr>\n",
       "  </thead>\n",
       "  <tbody>\n",
       "    <tr>\n",
       "      <th>0</th>\n",
       "      <td>605730f68cd0e3d69a52284b</td>\n",
       "      <td>1.1389089287259985e+20</td>\n",
       "      <td>4</td>\n",
       "      <td>We came for a birthday brunch and this place i...</td>\n",
       "      <td>[{'id': 'AF1QipPrls2G30PS3tyC55KBxUrKgy3ER0AB5...</td>\n",
       "    </tr>\n",
       "    <tr>\n",
       "      <th>1</th>\n",
       "      <td>605730f68cd0e3d69a52284b</td>\n",
       "      <td>1.00158382312396e+20</td>\n",
       "      <td>5</td>\n",
       "      <td>Cool place to hang out, have drinks.  There is...</td>\n",
       "      <td>[{'id': 'AF1QipPj8FEVZrdpTZmRdjoOtzQyfGYSwJ0Ub...</td>\n",
       "    </tr>\n",
       "    <tr>\n",
       "      <th>2</th>\n",
       "      <td>605730f68cd0e3d69a52284b</td>\n",
       "      <td>1.1349516171898012e+20</td>\n",
       "      <td>2</td>\n",
       "      <td>This place doesn’t rock the senses when it com...</td>\n",
       "      <td>[{'id': 'AF1QipOP5poDTRQ4XXIM11buv5x9Ae-BNXwcq...</td>\n",
       "    </tr>\n",
       "    <tr>\n",
       "      <th>3</th>\n",
       "      <td>605730f68cd0e3d69a52284b</td>\n",
       "      <td>1.1125954440107526e+20</td>\n",
       "      <td>3</td>\n",
       "      <td>Pretty cool place to hang out with friends and...</td>\n",
       "      <td>[{'id': 'AF1QipMq84NEaCMdQtfrELbudJdQbTILp_5I_...</td>\n",
       "    </tr>\n",
       "    <tr>\n",
       "      <th>4</th>\n",
       "      <td>605730f68cd0e3d69a52284b</td>\n",
       "      <td>1.0428546327506392e+20</td>\n",
       "      <td>5</td>\n",
       "      <td>We saw this place the other day when we had re...</td>\n",
       "      <td>[{'id': 'AF1QipOTCVzPHHWTiQO_2UZNVeG5KMbcki6d5...</td>\n",
       "    </tr>\n",
       "  </tbody>\n",
       "</table>\n",
       "</div>"
      ],
      "text/plain": [
       "                business_id                 user_id  rating  \\\n",
       "0  605730f68cd0e3d69a52284b  1.1389089287259985e+20       4   \n",
       "1  605730f68cd0e3d69a52284b    1.00158382312396e+20       5   \n",
       "2  605730f68cd0e3d69a52284b  1.1349516171898012e+20       2   \n",
       "3  605730f68cd0e3d69a52284b  1.1125954440107526e+20       3   \n",
       "4  605730f68cd0e3d69a52284b  1.0428546327506392e+20       5   \n",
       "\n",
       "                                         review_text  \\\n",
       "0  We came for a birthday brunch and this place i...   \n",
       "1  Cool place to hang out, have drinks.  There is...   \n",
       "2  This place doesn’t rock the senses when it com...   \n",
       "3  Pretty cool place to hang out with friends and...   \n",
       "4  We saw this place the other day when we had re...   \n",
       "\n",
       "                                                pics  \n",
       "0  [{'id': 'AF1QipPrls2G30PS3tyC55KBxUrKgy3ER0AB5...  \n",
       "1  [{'id': 'AF1QipPj8FEVZrdpTZmRdjoOtzQyfGYSwJ0Ub...  \n",
       "2  [{'id': 'AF1QipOP5poDTRQ4XXIM11buv5x9Ae-BNXwcq...  \n",
       "3  [{'id': 'AF1QipMq84NEaCMdQtfrELbudJdQbTILp_5I_...  \n",
       "4  [{'id': 'AF1QipOTCVzPHHWTiQO_2UZNVeG5KMbcki6d5...  "
      ]
     },
     "execution_count": 7,
     "metadata": {},
     "output_type": "execute_result"
    }
   ],
   "source": [
    "dataTrain.head()"
   ]
  },
  {
   "cell_type": "code",
   "execution_count": null,
   "id": "1a0c1c28-a249-4ceb-9edf-df4cb1b55e54",
   "metadata": {},
   "outputs": [],
   "source": []
  },
  {
   "cell_type": "code",
   "execution_count": 9,
   "id": "a2d3d64e-b515-4267-8359-01010f746dac",
   "metadata": {},
   "outputs": [],
   "source": [
    "# Calculate the global average rating\n",
    "global_average = dataTrain['rating'].mean()\n",
    "\n",
    "# Calculate the user-specific average ratings\n",
    "user_average = dataTrain.groupby('user_id')['rating'].mean()\n",
    "\n",
    "# Load the pairs for prediction into a dataframe\n",
    "pairs_df = dataTest[['business_id', 'user_id']]"
   ]
  },
  {
   "cell_type": "code",
   "execution_count": 10,
   "id": "12993969-08eb-4526-95a9-bc25db1768a3",
   "metadata": {
    "jupyter": {
     "source_hidden": true
    }
   },
   "outputs": [],
   "source": [
    "pairs_df = pairs_df.assign(user_average=pairs_df['user_id'].map(user_average))\n",
    "\n",
    "# Replace NaN values (users not in training data) with the global average\n",
    "pairs_df.loc[pairs_df['user_average'].isna(), 'user_average'] = global_average\n",
    "\n",
    "# Safely assign the predicted rating column\n",
    "pairs_df = pairs_df.assign(predicted_rating=pairs_df['user_average'])"
   ]
  },
  {
   "cell_type": "code",
   "execution_count": 17,
   "id": "bfe8af3f-2198-40d0-ad1c-dc5ed40e3345",
   "metadata": {},
   "outputs": [
    {
     "data": {
      "text/html": [
       "<div>\n",
       "<style scoped>\n",
       "    .dataframe tbody tr th:only-of-type {\n",
       "        vertical-align: middle;\n",
       "    }\n",
       "\n",
       "    .dataframe tbody tr th {\n",
       "        vertical-align: top;\n",
       "    }\n",
       "\n",
       "    .dataframe thead th {\n",
       "        text-align: right;\n",
       "    }\n",
       "</style>\n",
       "<table border=\"1\" class=\"dataframe\">\n",
       "  <thead>\n",
       "    <tr style=\"text-align: right;\">\n",
       "      <th></th>\n",
       "      <th>business_id</th>\n",
       "      <th>user_id</th>\n",
       "      <th>user_average</th>\n",
       "      <th>predicted_rating</th>\n",
       "    </tr>\n",
       "  </thead>\n",
       "  <tbody>\n",
       "    <tr>\n",
       "      <th>1338972</th>\n",
       "      <td>60423c5e2e57ebdea29c8d6d</td>\n",
       "      <td>1.1615514791549198e+20</td>\n",
       "      <td>3.500000</td>\n",
       "      <td>3.500000</td>\n",
       "    </tr>\n",
       "    <tr>\n",
       "      <th>1338973</th>\n",
       "      <td>60423c5e2e57ebdea29c8d6d</td>\n",
       "      <td>1.0150434207857227e+20</td>\n",
       "      <td>4.666667</td>\n",
       "      <td>4.666667</td>\n",
       "    </tr>\n",
       "    <tr>\n",
       "      <th>1338974</th>\n",
       "      <td>60423c5e2e57ebdea29c8d6d</td>\n",
       "      <td>1.1520009869201855e+20</td>\n",
       "      <td>4.450040</td>\n",
       "      <td>4.450040</td>\n",
       "    </tr>\n",
       "    <tr>\n",
       "      <th>1338975</th>\n",
       "      <td>60423c5e2e57ebdea29c8d6d</td>\n",
       "      <td>1.112238683133585e+20</td>\n",
       "      <td>5.000000</td>\n",
       "      <td>5.000000</td>\n",
       "    </tr>\n",
       "    <tr>\n",
       "      <th>1338976</th>\n",
       "      <td>60423c5e2e57ebdea29c8d6d</td>\n",
       "      <td>1.129038314252033e+20</td>\n",
       "      <td>4.450040</td>\n",
       "      <td>4.450040</td>\n",
       "    </tr>\n",
       "  </tbody>\n",
       "</table>\n",
       "</div>"
      ],
      "text/plain": [
       "                      business_id                 user_id  user_average  \\\n",
       "1338972  60423c5e2e57ebdea29c8d6d  1.1615514791549198e+20      3.500000   \n",
       "1338973  60423c5e2e57ebdea29c8d6d  1.0150434207857227e+20      4.666667   \n",
       "1338974  60423c5e2e57ebdea29c8d6d  1.1520009869201855e+20      4.450040   \n",
       "1338975  60423c5e2e57ebdea29c8d6d   1.112238683133585e+20      5.000000   \n",
       "1338976  60423c5e2e57ebdea29c8d6d   1.129038314252033e+20      4.450040   \n",
       "\n",
       "         predicted_rating  \n",
       "1338972          3.500000  \n",
       "1338973          4.666667  \n",
       "1338974          4.450040  \n",
       "1338975          5.000000  \n",
       "1338976          4.450040  "
      ]
     },
     "execution_count": 17,
     "metadata": {},
     "output_type": "execute_result"
    }
   ],
   "source": [
    "pairs_df.head()"
   ]
  },
  {
   "cell_type": "code",
   "execution_count": 19,
   "id": "0c7c0afa-696d-4198-8ad9-68ec038a2f6e",
   "metadata": {},
   "outputs": [],
   "source": [
    "pred = pairs_df[['predicted_rating']].round()"
   ]
  },
  {
   "cell_type": "code",
   "execution_count": 21,
   "id": "cb46a012-9b54-40b2-b260-5c55f5501f45",
   "metadata": {},
   "outputs": [],
   "source": [
    "pred['actual'] = dataTest['rating']"
   ]
  },
  {
   "cell_type": "code",
   "execution_count": 25,
   "id": "bd750db8-1e31-440e-a4fd-d7c677306fc5",
   "metadata": {},
   "outputs": [
    {
     "data": {
      "text/plain": [
       "(148775, 2)"
      ]
     },
     "execution_count": 25,
     "metadata": {},
     "output_type": "execute_result"
    }
   ],
   "source": [
    "pred.shape"
   ]
  },
  {
   "cell_type": "code",
   "execution_count": 26,
   "id": "7d0f3a07-b5d4-4be6-9994-f79ca4aeb9bb",
   "metadata": {},
   "outputs": [
    {
     "data": {
      "text/plain": [
       "0.38359939505965385"
      ]
     },
     "execution_count": 26,
     "metadata": {},
     "output_type": "execute_result"
    }
   ],
   "source": [
    "sum(pred['predicted_rating'] == pred['actual'])/148775"
   ]
  },
  {
   "cell_type": "code",
   "execution_count": null,
   "id": "dc727485-884a-4a17-8ce6-d205b0e035c7",
   "metadata": {},
   "outputs": [],
   "source": []
  }
 ],
 "metadata": {
  "kernelspec": {
   "display_name": "cse158a2",
   "language": "python",
   "name": "cse158a2"
  },
  "language_info": {
   "codemirror_mode": {
    "name": "ipython",
    "version": 3
   },
   "file_extension": ".py",
   "mimetype": "text/x-python",
   "name": "python",
   "nbconvert_exporter": "python",
   "pygments_lexer": "ipython3",
   "version": "3.8.20"
  }
 },
 "nbformat": 4,
 "nbformat_minor": 5
}
